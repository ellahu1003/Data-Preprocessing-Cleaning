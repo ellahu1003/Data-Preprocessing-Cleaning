{
 "cells": [
  {
   "cell_type": "code",
   "execution_count": null,
   "metadata": {},
   "outputs": [],
   "source": [
    "# import libraries\n",
    "import pandas as pd\n",
    "import fuzzywuzzy\n",
    "import chardet\n",
    "import numpy as np\n",
    "import datetime"
   ]
  },
  {
   "cell_type": "code",
   "execution_count": null,
   "metadata": {},
   "outputs": [],
   "source": [
    "# import data\n",
    "store_df = pd.read_csv('store_income_data_task.csv', keep_default_na=True)\n",
    "print(store_df)"
   ]
  },
  {
   "cell_type": "code",
   "execution_count": null,
   "metadata": {},
   "outputs": [],
   "source": [
    "# Here, I am taking a look at all the unique values in the \"country\" column. \n",
    "# Then, I will convert the column entries to lowercase and remove any trailing white spaces.\n",
    "store_df['country'] = store_df['country'].str.lower()\n",
    "store_df['country'] = store_df['country'].str.strip()\n",
    "countries = store_df['country'].unique()\n",
    "print(f\"There are {len(countries)} unique countries\")\n",
    "print(countries)\n",
    "\n"
   ]
  },
  {
   "cell_type": "code",
   "execution_count": null,
   "metadata": {},
   "outputs": [],
   "source": [
    "# Cleaning up the country column\n",
    "# Finding the closet matches for each country as I am trying to narrow it down to three countries\n",
    "# The three countries are \"united kingdom\", \"united states\" and \"south africa\"\n",
    "from fuzzywuzzy import process\n",
    "uk_matches = fuzzywuzzy.process.extract(\"united kingdom\", countries, limit=5, scorer=fuzzywuzzy.fuzz.token_sort_ratio)\n",
    "print(uk_matches)\n",
    "us_matches = fuzzywuzzy.process.extract(\"united states\", countries, limit=5, scorer=fuzzywuzzy.fuzz.token_sort_ratio)\n",
    "print(us_matches)\n",
    "sa_matches = fuzzywuzzy.process.extract(\"south africa\", countries, limit=5, scorer=fuzzywuzzy.fuzz.token_sort_ratio)\n",
    "print(sa_matches)"
   ]
  },
  {
   "cell_type": "code",
   "execution_count": null,
   "metadata": {},
   "outputs": [],
   "source": [
    "# Defining the function to replace the countries in the column\n",
    "def replace_matches_in_column(store_df, column, string_to_match, min_ratio=90):\n",
    "    strings = store_df[column].unique()\n",
    "    matches = fuzzywuzzy.process.extract(string_to_match, strings, limit=3, scorer=fuzzywuzzy.fuzz.token_sort_ratio)\n",
    "    close_matches = [matches[0] for matches in matches if matches[1] >= min_ratio]\n",
    "    rows_with_close_matches = store_df[column].isin(close_matches)\n",
    "    store_df.loc[rows_with_close_matches, column] = string_to_match\n",
    "    print(\"Done!\")"
   ]
  },
  {
   "cell_type": "code",
   "execution_count": null,
   "metadata": {},
   "outputs": [],
   "source": [
    "# Since there are many different variations of how the country names are written in this dataset\n",
    "# I have called the replace_matches_in_column function quite a lot fo times to narrow it down\n",
    "# So that it is easier replace the different names with the desired country name later\n",
    "replace_matches_in_column(store_df, column='country', string_to_match=\"united kingdom\")\n",
    "replace_matches_in_column(store_df, column='country', string_to_match=\"united states\")\n",
    "replace_matches_in_column(store_df, column='country', string_to_match=\"south africa\")\n",
    "replace_matches_in_column(store_df, column='country', string_to_match=\"united states of america\")\n",
    "replace_matches_in_column(store_df, column='country', string_to_match=\"britain\")\n",
    "replace_matches_in_column(store_df, column='country', string_to_match=\"s.africasouth africa\")\n",
    "replace_matches_in_column(store_df, column='country', string_to_match=\"uk\")\n",
    "replace_matches_in_column(store_df, column='country', string_to_match=\"england\")\n",
    "replace_matches_in_column(store_df, column='country', string_to_match=\"america\")\n",
    "# Checking to see how many different countries names there are to see if the functions worked properly\n",
    "countries = store_df['country'].unique()\n",
    "print(countries)"
   ]
  },
  {
   "cell_type": "code",
   "execution_count": null,
   "metadata": {},
   "outputs": [],
   "source": [
    "# to finish cleaning the country column, I am now going to use the replace() function\n",
    "# This will help me get rid of the different variations and change them into the desired country names\n",
    "store_df.replace(['uk', 'britain','england', 'u.k.', 'u.k/', 'u.k'], 'united kingdom', inplace=True)\n",
    "store_df.replace(['united states of america', 'america'], 'united states', inplace=True)\n",
    "store_df.replace(['sa', 's.a.', 's.africasouth africa', 'sa/', 's.a..', 's.a./', 'sa.'], 'south africa', inplace=True)\n",
    "countries = store_df['country'].unique()\n",
    "# For the missing or random values below, I will also make them consistent\n",
    "# To replace NaN, I have used numpy because of the way missing values are presented in panda\n",
    "store_df.replace(['', '/', '.', np.nan], 'N/A', inplace=True)\n",
    "# Dropping the the rows with 'N/A' to get the desired output\n",
    "store_df = store_df[store_df['country'] != 'N/A']\n",
    "# Printing out 'countries' and 'store_df' to double check that there are only three unique countries\n",
    "print(countries)\n",
    "print(store_df)\n"
   ]
  },
  {
   "cell_type": "markdown",
   "metadata": {},
   "source": [
    "Create a new column called `days_ago` in the DataFrame that is a copy of\n",
    "the “date_measured” column but instead shows a number that represents the number of days ago that it was measured. Note that the current date can be obtained using datetime.date.today()."
   ]
  },
  {
   "cell_type": "code",
   "execution_count": null,
   "metadata": {},
   "outputs": [],
   "source": [
    "# Converting the 'date_measured' column to datetime format\n",
    "store_df['date_measured'] = pd.to_datetime(store_df['date_measured'], format='%d-%m-%Y')\n",
    "print(store_df['date_measured'])\n",
    "# Creating a new column for 'days_ago'\n",
    "from datetime import date\n",
    "# In order to calculate the number of days ago it was measured, I have written the equation below\n",
    "# I researched and realised I can use the Timestamp funciton in pandas to help me do so\n",
    "# I have converted the datetime.date.today into a Timestamp object to help do the calculations\n",
    "# I have named the Timestamp object as the variable today\n",
    "# I also used the dt.days to turn the result into number of days\n",
    "# The website I used is here: https://www.geeksforgeeks.org/python-pandas-timestamp-now/\n",
    "today = pd.Timestamp(datetime.date.today())\n",
    "store_df['days_ago'] = (today - store_df['date_measured']).dt.days\n",
    "print(store_df['days_ago'])"
   ]
  },
  {
   "cell_type": "code",
   "execution_count": null,
   "metadata": {},
   "outputs": [],
   "source": []
  }
 ],
 "metadata": {
  "kernelspec": {
   "display_name": "Python 3",
   "language": "python",
   "name": "python3"
  },
  "language_info": {
   "codemirror_mode": {
    "name": "ipython",
    "version": 3
   },
   "file_extension": ".py",
   "mimetype": "text/x-python",
   "name": "python",
   "nbconvert_exporter": "python",
   "pygments_lexer": "ipython3",
   "version": "3.11.7"
  }
 },
 "nbformat": 4,
 "nbformat_minor": 2
}
